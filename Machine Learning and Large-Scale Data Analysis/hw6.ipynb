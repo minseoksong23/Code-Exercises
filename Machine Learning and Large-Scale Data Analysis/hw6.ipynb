{
  "cells": [
    {
      "cell_type": "code",
      "execution_count": 59,
      "metadata": {
        "colab": {
          "base_uri": "https://localhost:8080/"
        },
        "id": "bX3xGIkCftdE",
        "outputId": "d65371d8-7625-4f0d-af05-c0d2372de004"
      },
      "outputs": [
        {
          "name": "stdout",
          "output_type": "stream",
          "text": [
            "Drive already mounted at ME; to attempt to forcibly remount, call drive.mount(\"ME\", force_remount=True).\n",
            "cuda:0\n"
          ]
        }
      ],
      "source": [
        "import os\n",
        "\n",
        "# Check if you're on Google drive or on your own machine.\n",
        "# Get path to your data.\n",
        "if ('google' in str(get_ipython())):\n",
        "    from google.colab import drive\n",
        "    drive.mount('ME')\n",
        "    #predir='/content/ME/My Drive/'\n",
        "    predir='ME/My Drive/'\n",
        "\n",
        "import torch\n",
        "import numpy as np\n",
        "\n",
        "# Torch functions\n",
        "import torch.nn as nn\n",
        "import torch.nn.functional as F\n",
        "import torch.optim as optim\n",
        "import collections\n",
        "import pickle\n",
        "import argparse\n",
        "from random import shuffle\n",
        "import torch.nn.functional as F\n",
        "from torch.autograd import Variable\n",
        "import matplotlib.pylab  as plt\n",
        "#%matplotlib inline\n",
        "\n",
        "\n",
        "# Folder with course data\n",
        "datadir=predir+'LSDA_data/NLP/'\n",
        "device = torch.device(\"cuda:0\" if torch.cuda.is_available() else \"cpu\")\n",
        "\n",
        "print(device)\n",
        "import time\n",
        "import numpy as np\n",
        "\n"
      ]
    },
    {
      "cell_type": "markdown",
      "metadata": {
        "id": "2q9sgNLXftdG"
      },
      "source": [
        "# Parameters used in code"
      ]
    },
    {
      "cell_type": "code",
      "execution_count": 60,
      "metadata": {
        "id": "deeCtegmftdJ"
      },
      "outputs": [],
      "source": [
        "parser = argparse.ArgumentParser()\n",
        "parser.add_argument('--data_dir', default=datadir)\n",
        "parser.add_argument('--save_dir', default='./')\n",
        "# Dimension of hidden layer variables h and c\n",
        "parser.add_argument('--num_units', default=128*2)\n",
        "parser.add_argument('--batch_size', default=64)\n",
        "# Number of steps in each batch for training\n",
        "parser.add_argument('--num_steps', default=75)\n",
        "parser.add_argument('--num_epochs', default=3)\n",
        "# Time step\n",
        "parser.add_argument('--lr', default=0.002)\n",
        "# Number of possible inputs/outputs\n",
        "parser.add_argument('--num_chars')\n",
        "parser.add_argument('--num_batches',default=20)\n",
        "args, unparsed = parser.parse_known_args()"
      ]
    },
    {
      "cell_type": "code",
      "execution_count": 61,
      "metadata": {
        "id": "LtGD3Mv6ftdK"
      },
      "outputs": [],
      "source": [
        "def timer(start, end):\n",
        "    hrs, rem = divmod(end-start, 3600)\n",
        "    mins, secs = divmod(rem, 60)\n",
        "    print('{:0>2} hours {:0>2} minutes {:05.2f} seconds'.format(int(hrs), int(mins), secs))"
      ]
    },
    {
      "cell_type": "markdown",
      "metadata": {
        "id": "XtsOdmutftdK"
      },
      "source": [
        "# Class for handling the text data, creating vocabulary (in this case just the 65 characters). Creating batches and loading batches"
      ]
    },
    {
      "cell_type": "code",
      "execution_count": 62,
      "metadata": {
        "id": "gOcZSEkaftdK"
      },
      "outputs": [],
      "source": [
        "class TextLoader():\n",
        "\n",
        "    def __init__(self, data_dir, batch_size=64, seq_length=50, encoding='utf-8'):\n",
        "        self.data_dir = data_dir\n",
        "        self.encoding = encoding\n",
        "        self.batch_size = batch_size\n",
        "        self.seq_length = seq_length\n",
        "\n",
        "        self.input_file = os.path.join(data_dir, 'tinyshakespeare.txt')\n",
        "        self.vocab_file = os.path.join(data_dir, 'vocab.pkl')\n",
        "        # Numeric file of characters translated to indices.\n",
        "        self.tensor_file = os.path.join(data_dir, 'data.npy')\n",
        "\n",
        "        if not (os.path.exists(self.vocab_file) and os.path.exists(self.tensor_file)):\n",
        "            #print('it seems we havent processed the text data yet: reading the shakespear')\n",
        "            self.preprocess(self.input_file, self.vocab_file, self.tensor_file)\n",
        "        else:\n",
        "            #print('there are preprocessed data - lets load it')\n",
        "            self.load_preprocessed(self.vocab_file, self.tensor_file)\n",
        "\n",
        "        self.create_batches()\n",
        "        self.reset_batch_pointer()\n",
        "\n",
        "    # Create numeric file.\n",
        "    def preprocess(self, input_file=None, vocab_file=None, tensor_file=None, saveit=True):\n",
        "        if input_file is not None:\n",
        "            self.input_file = input_file\n",
        "        if vocab_file is not None:\n",
        "            self.vocab_file = vocab_file\n",
        "        if tensor_file is not None:\n",
        "            self.tensor_file = tensor_file\n",
        "\n",
        "        with open(self.input_file, 'r') as f:\n",
        "            data = f.read()\n",
        "        #data = data.lower()\n",
        "        self.total_length = len(data)\n",
        "        counter = collections.Counter(data)\n",
        "        count_pairs = sorted(counter.items(), key=lambda x: -x[1])\n",
        "        self.chars, _ = zip(*count_pairs)\n",
        "        self.vocab_size = len(self.chars)\n",
        "        self.vocab_to_idx = dict(zip(self.chars, range(len(self.chars))))\n",
        "        self.idx_to_vocab = dict(zip(self.vocab_to_idx.values(), self.vocab_to_idx.keys()))\n",
        "\n",
        "        if saveit:\n",
        "            with open(self.vocab_file, 'wb') as f:  # saving dictionary so we don't compute it again\n",
        "                pickle.dump(self.chars, f)\n",
        "            self.tensor = np.array(list(map(self.vocab_to_idx.get, data)))\n",
        "            np.save(self.tensor_file, self.tensor)  # saving the numerified data\n",
        "    # Load numeric file create dictionaries for char2idx and back\n",
        "    def load_preprocessed(self, vocab_file=None, tensor_file=None):\n",
        "        if vocab_file is not None:\n",
        "            self.vocab_file = vocab_file\n",
        "        if tensor_file is not None:\n",
        "            self.tensor_file = tensor_file\n",
        "\n",
        "        with open(self.vocab_file, 'rb') as f:\n",
        "            self.chars = pickle.load(f)\n",
        "\n",
        "        # attributes\n",
        "        self.vocab_size = len(self.chars)\n",
        "        self.vocab = dict(zip(self.chars, range(self.vocab_size)))\n",
        "        self.vocab_to_idx = dict(zip(self.chars, range(len(self.chars))))\n",
        "        self.idx_to_vocab = dict(zip(self.vocab_to_idx.values(), self.vocab_to_idx.keys()))\n",
        "        self.tensor = np.load(tensor_file)\n",
        "        self.num_batches = int(self.tensor.size / (self.batch_size * self.seq_length))\n",
        "\n",
        "    # tensor size = the length of the entire data sequence\n",
        "    # divide into batch_size sub sequences and stack\n",
        "    # cut those by seq_length to produce batches of [batch size, seq_length] sized examples\n",
        "    def create_batches(self):\n",
        "\n",
        "\n",
        "        self.num_batches = int(self.tensor.size / (self.batch_size * self.seq_length))\n",
        "\n",
        "        if self.num_batches == 0:\n",
        "            assert False, 'Not enough data. Make seq_length and/or batch_size smaller'\n",
        "\n",
        "        self.tensor = self.tensor[:self.num_batches * self.batch_size * self.seq_length]  # so we get an even divide\n",
        "        xdata = self.tensor\n",
        "        ydata = np.copy(self.tensor)\n",
        "\n",
        "        # ydata is one step ahead of x and last item is first item of x\n",
        "        # to get sequences of same length\n",
        "        ydata[:-1] = xdata[1:]\n",
        "        ydata[-1] = xdata[0]\n",
        "\n",
        "        self.x_batches = np.split(xdata.reshape(self.batch_size, -1), self.num_batches, 1)\n",
        "        self.y_batches = np.split(ydata.reshape(self.batch_size, -1), self.num_batches, 1)\n",
        "\n",
        "        self.train_num_batches=np.int32(self.num_batches*.8)\n",
        "        self.test_num_batches=self.num_batches-self.train_num_batches\n",
        "        self.train_x_batches=self.x_batches[0:self.train_num_batches]\n",
        "        self.train_y_batches=self.y_batches[0:self.train_num_batches]\n",
        "        self.test_x_batches=self.x_batches[self.train_num_batches:]\n",
        "        self.test_y_batches=self.y_batches[self.train_num_batches:]\n",
        "\n",
        "        # xdata: L length\n",
        "        # xdata reshaped: batch_size, (L/batch_size) length following natural indexing\n",
        "        # np.split: into num batches batches along the width(sentence)\n",
        "\n",
        "    def next_batch_train(self):\n",
        "        x, y = self.train_x_batches[self.pointer], self.train_y_batches[self.pointer]\n",
        "        self.pointer += 1\n",
        "        return x,y\n",
        "\n",
        "    def next_batch_test(self):\n",
        "        x, y = self.test_x_batches[self.pointer], self.test_y_batches[self.pointer]\n",
        "        self.pointer += 1\n",
        "        return x,y\n",
        "\n",
        "    def reset_batch_pointer(self):\n",
        "        self.pointer = 0"
      ]
    },
    {
      "cell_type": "code",
      "execution_count": 63,
      "metadata": {
        "colab": {
          "base_uri": "https://localhost:8080/"
        },
        "id": "bhmoBGXdftdM",
        "outputId": "f20618a4-d983-422b-fb1a-1aeaea1a8a9c"
      },
      "outputs": [
        {
          "name": "stdout",
          "output_type": "stream",
          "text": [
            "num chars 65\n",
            "num batches 232\n"
          ]
        }
      ],
      "source": [
        "loader = TextLoader(args.data_dir, batch_size=args.batch_size, seq_length=args.num_steps)\n",
        "args.num_chars = loader.vocab_size\n",
        "print('num chars',args.num_chars)\n",
        "print('num batches',loader.num_batches)"
      ]
    },
    {
      "cell_type": "markdown",
      "metadata": {
        "id": "cfRL3UY5ftdM"
      },
      "source": [
        "# Basic RNN"
      ]
    },
    {
      "cell_type": "code",
      "execution_count": 64,
      "metadata": {
        "id": "XQYlOEXFftdN"
      },
      "outputs": [],
      "source": [
        "# SimpleRNN Cell Class\n",
        "class MyBasicRNNCell(nn.Module):\n",
        "    def __init__(self, input_size, hidden_size):\n",
        "        super().__init__()\n",
        "        self.input_size = input_size\n",
        "        self.hidden_size = hidden_size\n",
        "        self.W = nn.Parameter(torch.Tensor(input_size + hidden_size, hidden_size))\n",
        "        self.b = nn.Parameter(torch.Tensor(hidden_size))\n",
        "        self.init_weights()\n",
        "    def init_weights(self):\n",
        "        for p in self.parameters():\n",
        "            if p.data.ndimension() >= 2:\n",
        "                nn.init.xavier_uniform_(p.data)\n",
        "            else:\n",
        "                nn.init.zeros_(p.data)\n",
        "    def forward(self, x, init_states):\n",
        "        output = torch.tanh(torch.cat((x, init_states),1)@self.W + self.b)\n",
        "        return output, output"
      ]
    },
    {
      "cell_type": "markdown",
      "metadata": {
        "id": "2z1krsitftdO"
      },
      "source": [
        "# Basic LSTM"
      ]
    },
    {
      "cell_type": "code",
      "execution_count": 65,
      "metadata": {
        "id": "NTfZVl94ftdO"
      },
      "outputs": [],
      "source": [
        "class MyBasicLSTMCell(nn.Module):\n",
        "    def __init__(self, input_size, hidden_size):\n",
        "        super().__init__()\n",
        "        self.input_size = input_size\n",
        "        self.hidden_size = hidden_size\n",
        "        self.weight_ih = nn.Parameter(torch.Tensor(input_size, hidden_size * 4))\n",
        "        self.weight_hh = nn.Parameter(torch.Tensor(hidden_size, hidden_size * 4))\n",
        "        self.bias = nn.Parameter(torch.Tensor(hidden_size * 4))\n",
        "        self.init_weights()\n",
        "    def init_weights(self):\n",
        "        for p in self.parameters():\n",
        "            if p.data.ndimension() >= 2:\n",
        "                nn.init.xavier_uniform_(p.data)\n",
        "            else:\n",
        "                nn.init.zeros_(p.data)\n",
        "    def forward(self, x, init_states=None):\n",
        "        if init_states is None:\n",
        "            h_t, c_t = (torch.zeros(self.hidden_size).to(x.device),\n",
        "                        torch.zeros(self.hidden_size).to(x.device))\n",
        "        else:\n",
        "            h_t, c_t = init_states\n",
        "        HS = self.hidden_size\n",
        "        gates = x @ self.weight_ih + h_t @ self.weight_hh + self.bias\n",
        "        i_t, f_t, g_t, o_t = (\n",
        "            torch.sigmoid(gates[:, :HS]), # input\n",
        "            torch.sigmoid(gates[:, HS:HS*2]), # forget\n",
        "            torch.tanh(gates[:, HS*2:HS*3]),\n",
        "            torch.sigmoid(gates[:, HS*3:]), # output\n",
        "        )\n",
        "        c_t = f_t * c_t + i_t * g_t\n",
        "        h_t = o_t * torch.tanh(c_t)\n",
        "        return h_t, (h_t, c_t)"
      ]
    },
    {
      "cell_type": "markdown",
      "metadata": {
        "id": "UnhvazM0ftdP"
      },
      "source": [
        "# Function incorporating chosen Cell type (LSTM, RNN). Unrolling it and adding the loss computation."
      ]
    },
    {
      "cell_type": "code",
      "execution_count": 66,
      "metadata": {
        "id": "ul8kFWKfftdP"
      },
      "outputs": [],
      "source": [
        "class network(nn.Module):\n",
        "    def __init__(self, cell_type, ntoken, ninp, nhid):\n",
        "#       cell_type can be RNN or LSTM\n",
        "#       notken should be args.num_chars\n",
        "#       ninp should be args.num_units - it is the dimension of the embedding\n",
        "#       of the discrete tokens and it usually the same as the hidden dimension.\n",
        "#       nhid should be args.num_units\n",
        "        super(network, self).__init__()\n",
        "        self.cell_type = cell_type\n",
        "        if self.cell_type == 'LSTM':\n",
        "            self.cell = MyBasicLSTMCell(args.num_units, args.num_units)\n",
        "\n",
        "        elif self.cell_type == 'RNN':\n",
        "            self.cell = MyBasicRNNCell(args.num_units, args.num_units)\n",
        "        else:\n",
        "            raise NotImplementedError\n",
        "        self.ntoken = ntoken\n",
        "        self.ninp = ninp\n",
        "        self.nhid = nhid\n",
        "        self.embedding = nn.Embedding(ntoken, ninp)\n",
        "        self.decoder = nn.Linear(nhid, ntoken)\n",
        "        self.init_weights()\n",
        "\n",
        "    def init_weights(self):\n",
        "        self.decoder.bias.data.zero_()\n",
        "\n",
        "    def forward(self, x, hidden):\n",
        "        bs, seq_sz = x.size()\n",
        "        emb = self.embedding(x)\n",
        "        assert hidden is not None\n",
        "        outputs = []\n",
        "        for t in range(seq_sz):\n",
        "            x_t = emb[:,t,:]\n",
        "            output, hidden = self.cell(x_t, hidden)\n",
        "            outputs.append(output)\n",
        "        reshaped_output = torch.cat(outputs,1).view(-1, self.nhid)\n",
        "        logits = self.decoder(reshaped_output)\n",
        "        logits = logits.view(bs,seq_sz,-1)\n",
        "        final_hidden = hidden\n",
        "        return logits, final_hidden\n",
        "\n",
        "    def init_hidden(self, bsz):\n",
        "        # external function\n",
        "        weight = next(self.parameters()).data\n",
        "        if self.cell_type == 'LSTM':\n",
        "            return (weight.new_zeros(bsz, self.nhid),\n",
        "                    weight.new_zeros(bsz, self.nhid))\n",
        "        elif self.cell_type == 'RNN':\n",
        "            return weight.new_zeros(bsz, self.nhid)\n",
        "        else:\n",
        "            raise NotImplementedError"
      ]
    },
    {
      "cell_type": "markdown",
      "metadata": {
        "id": "vmZ5Fu33ftdP"
      },
      "source": [
        "# Train"
      ]
    },
    {
      "cell_type": "code",
      "execution_count": 67,
      "metadata": {
        "id": "rO2JoCbqftdP"
      },
      "outputs": [],
      "source": [
        "\n",
        "def trainer(celltype):\n",
        "    criterion = nn.CrossEntropyLoss()\n",
        "    start_time = time.time()\n",
        "    my_network = network(celltype, args.num_chars, args.num_units, args.num_units).to(device)\n",
        "    my_network.train()\n",
        "    optimizer = torch.optim.Adam(my_network.parameters(), lr=args.lr)\n",
        "    print('train_num_batches',loader.train_num_batches)\n",
        "\n",
        "    num_batches=loader.train_num_batches\n",
        "    training_losses = []\n",
        "    for epoch in range(args.num_epochs):\n",
        "        loader.reset_batch_pointer()\n",
        "        # Initial state - 0\n",
        "        init_state = my_network.init_hidden(args.batch_size)\n",
        "        training_loss = 0\n",
        "\n",
        "        for batch in range(num_batches):\n",
        "            x, y = loader.next_batch_train()\n",
        "            x = torch.from_numpy(np.int64(x)).to(device)\n",
        "            y = Variable(torch.from_numpy(np.int64(y))).to(device)\n",
        "            preds, final_hidden = my_network(x, init_state)\n",
        "            train_loss_ = criterion(preds.reshape(-1, args.num_chars), y.reshape(-1))\n",
        "            optimizer.zero_grad()\n",
        "            train_loss_.backward()\n",
        "            optimizer.step()\n",
        "            training_loss += train_loss_.item()\n",
        "        training_loss=training_loss/num_batches\n",
        "        print('epoch:', epoch, 'loss:',  training_loss)\n",
        "        training_losses.append(training_loss)\n",
        "    torch.save(my_network.state_dict(), os.path.join(args.save_dir, f'saved_{celltype}_model.pt'))\n",
        "    end_time = time.time()\n",
        "\n",
        "    timer(start_time, end_time)\n",
        "    return(training_losses)"
      ]
    },
    {
      "cell_type": "code",
      "execution_count": 45,
      "metadata": {
        "colab": {
          "base_uri": "https://localhost:8080/"
        },
        "id": "KV0fHtb8ftdQ",
        "outputId": "9a9df5b5-c7de-4c05-d3e9-6817d23744ee"
      },
      "outputs": [
        {
          "name": "stdout",
          "output_type": "stream",
          "text": [
            "cuda:0\n",
            "train_num_batches 185\n",
            "epoch: 0 loss: 2.1145383963713775\n",
            "epoch: 1 loss: 1.6736715928928272\n",
            "epoch: 2 loss: 1.5621705010130598\n",
            "epoch: 3 loss: 1.502823126638258\n",
            "epoch: 4 loss: 1.4637137477462356\n",
            "epoch: 5 loss: 1.4347732698595201\n",
            "epoch: 6 loss: 1.4121664131009901\n",
            "epoch: 7 loss: 1.3939248594077858\n",
            "epoch: 8 loss: 1.3784955772193703\n",
            "epoch: 9 loss: 1.3648446418143607\n",
            "epoch: 10 loss: 1.3526634254971066\n",
            "epoch: 11 loss: 1.341670407475652\n",
            "epoch: 12 loss: 1.331702216895851\n",
            "epoch: 13 loss: 1.3225789366541683\n",
            "epoch: 14 loss: 1.3143368237727397\n",
            "epoch: 15 loss: 1.3068000045982566\n",
            "epoch: 16 loss: 1.2998268823365908\n",
            "epoch: 17 loss: 1.2935911610319808\n",
            "epoch: 18 loss: 1.2874319869118769\n",
            "epoch: 19 loss: 1.2817939706750818\n",
            "00 hours 04 minutes 02.87 seconds\n"
          ]
        }
      ],
      "source": [
        "print(device)\n",
        "args.num_epochs=20\n",
        "re_lstm_basic = trainer(\"LSTM\")"
      ]
    },
    {
      "cell_type": "code",
      "execution_count": 13,
      "metadata": {
        "colab": {
          "base_uri": "https://localhost:8080/"
        },
        "id": "ncDp7e6wftdQ",
        "outputId": "c3b8061d-4f18-42c6-f48a-4b30e5b3f18d"
      },
      "outputs": [
        {
          "name": "stdout",
          "output_type": "stream",
          "text": [
            "cuda:0\n",
            "train_num_batches 185\n",
            "epoch: 0 loss: 2.0746412148346773\n",
            "epoch: 1 loss: 1.7169060694204794\n",
            "epoch: 2 loss: 1.6212332306681452\n",
            "epoch: 3 loss: 1.5696536193022856\n",
            "epoch: 4 loss: 1.536439197772258\n",
            "epoch: 5 loss: 1.513077710770272\n",
            "epoch: 6 loss: 1.4951605255539353\n",
            "epoch: 7 loss: 1.4810175012897802\n",
            "epoch: 8 loss: 1.469540643047642\n",
            "epoch: 9 loss: 1.460003560298198\n",
            "epoch: 10 loss: 1.4518935886589257\n",
            "epoch: 11 loss: 1.4448576134604376\n",
            "epoch: 12 loss: 1.4386945956462138\n",
            "epoch: 13 loss: 1.4331296669470297\n",
            "epoch: 14 loss: 1.4283275694460482\n",
            "epoch: 15 loss: 1.424188122233829\n",
            "epoch: 16 loss: 1.4206270920263755\n",
            "epoch: 17 loss: 1.4172512814805314\n",
            "epoch: 18 loss: 1.4145558402344987\n",
            "epoch: 19 loss: 1.4118384200173455\n",
            "00 hours 01 minutes 34.78 seconds\n"
          ]
        }
      ],
      "source": [
        "print(device)\n",
        "args.num_epochs=20\n",
        "re_rnn_basic = trainer(\"RNN\")"
      ]
    },
    {
      "cell_type": "markdown",
      "metadata": {
        "id": "TUrOup7aftdR"
      },
      "source": [
        "# Reload model and run a simulated prediction"
      ]
    },
    {
      "cell_type": "code",
      "execution_count": 14,
      "metadata": {
        "id": "_qp17yysftdR"
      },
      "outputs": [],
      "source": [
        "def Synthesize(celltype, init_string=\"None\"):\n",
        "    num_steps_bak=args.num_steps\n",
        "    batch_size_bak=args.batch_size\n",
        "    args.num_steps=1\n",
        "    args.batch_size=1\n",
        "    my_network = network(celltype, args.num_chars, args.num_units, args.num_units)\n",
        "    my_network.load_state_dict(torch.load(os.path.join(args.save_dir, f'saved_{celltype}_model.pt')))\n",
        "    my_network.eval()\n",
        "\n",
        "    # Define initialization\n",
        "    if (init_string is None):\n",
        "        initialization = 'Where are you going today?'\n",
        "    else:\n",
        "        initialization = init_string\n",
        "    loader= TextLoader(args.data_dir, batch_size=1, seq_length=1)\n",
        "\n",
        "    forecast_data=np.array(list(map(loader.vocab_to_idx.get, initialization)))\n",
        "    #print(forecast_data)\n",
        "    forecast_range = 100\n",
        "    top_k=5\n",
        "\n",
        "    # Run rnn on initialization data to get final hidden state before simulation\n",
        "    init_state = my_network.init_hidden(args.batch_size)\n",
        "    #print('data length',forecast_data.shape[0])\n",
        "    with torch.no_grad():\n",
        "        for i in range(forecast_data.shape[0]):\n",
        "            inputs = forecast_data[i].reshape(args.batch_size, args.num_steps)\n",
        "            x = Variable(torch.from_numpy(np.int64(inputs)))\n",
        "            _, state_ = my_network(x, init_state)\n",
        "\n",
        "        # last state of this step becomes first state of simulation\n",
        "\n",
        "        for i in range(forecast_range):\n",
        "            # Feed current predicted\n",
        "            inputs = forecast_data[-args.num_steps:].reshape(args.batch_size, args.num_steps)\n",
        "            x = Variable(torch.from_numpy(np.int64(inputs)))\n",
        "            logits_, state_ = my_network(x, state_)\n",
        "            predicted_prob = F.softmax(logits_.reshape(-1, args.num_chars),1).detach().numpy().squeeze()\n",
        "#             print(predicted_prob.shape)\n",
        "            # Simulate from top top_k probs\n",
        "            predicted_prob[np.argsort(predicted_prob)[:-top_k]] = 0\n",
        "            predicted_prob = predicted_prob/np.sum(predicted_prob)\n",
        "            sample = np.random.choice(args.num_chars, 1, p=predicted_prob)[0]\n",
        "            forecast_data = np.hstack((forecast_data, sample))\n",
        "\n",
        "    forecasted_chars = np.asarray([loader.idx_to_vocab[elem] for elem in forecast_data])\n",
        "\n",
        "    print(''.join(forecasted_chars))\n",
        "\n",
        "    args.num_steps=num_steps_bak\n",
        "    args.batch_size=batch_size_bak"
      ]
    },
    {
      "cell_type": "code",
      "execution_count": 15,
      "metadata": {
        "colab": {
          "base_uri": "https://localhost:8080/"
        },
        "id": "_FxBZTamftdS",
        "outputId": "864196db-ad97-4c7a-cd25-14ed1f5c951b"
      },
      "outputs": [
        {
          "name": "stdout",
          "output_type": "stream",
          "text": [
            "I am trying to create synthetic language, and its probably not working well, What is the meaning of life our father sailous\n",
            "And my husband's sin is beasts which I\n",
            "Whom I do not blown of tears,\n",
            "And there at\n"
          ]
        }
      ],
      "source": [
        "Synthesize(\"LSTM\",\"I am trying to create synthetic language, and its probably not working well, What is the meaning of life \")"
      ]
    },
    {
      "cell_type": "code",
      "execution_count": 16,
      "metadata": {
        "colab": {
          "base_uri": "https://localhost:8080/"
        },
        "id": "tgiJ_H3nftdS",
        "outputId": "67f14cf7-bfef-4a14-db8b-487c31481a35"
      },
      "outputs": [
        {
          "name": "stdout",
          "output_type": "stream",
          "text": [
            "I am trying to create synthetic language, and its probably not working well, What is the meaning of life an orthrave bettake of my seven tiger seemis welcome.\n",
            "\n",
            "DUCHESS OF YORK:\n",
            "Have been that is no leaves \n"
          ]
        }
      ],
      "source": [
        "Synthesize(\"RNN\",\"I am trying to create synthetic language, and its probably not working well, What is the meaning of life \")"
      ]
    },
    {
      "cell_type": "markdown",
      "metadata": {
        "id": "wBk6eQ0EftdS"
      },
      "source": [
        "# Get loss on test set"
      ]
    },
    {
      "cell_type": "code",
      "execution_count": 17,
      "metadata": {
        "id": "v-DASfvmftdS"
      },
      "outputs": [],
      "source": [
        "def Tester(celltype, num_batches=None):\n",
        "    my_network = network(celltype, args.num_chars, args.num_units, args.num_units)\n",
        "    my_network.load_state_dict(torch.load(os.path.join(args.save_dir, f'saved_{celltype}_model.pt')))\n",
        "    my_network.eval()\n",
        "    # Define initialization\n",
        "    initialization = 'Where are you going today?'\n",
        "    loader= TextLoader(args.data_dir, batch_size=args.batch_size, seq_length=args.num_steps)\n",
        "\n",
        "    forecast_data=np.array(list(map(loader.vocab_to_idx.get, initialization)))\n",
        "    print(forecast_data)\n",
        "    forecast_range = 100\n",
        "    top_k=5\n",
        "\n",
        "    if (num_batches is None):\n",
        "        num_batches=loader.test_num_batches\n",
        "\n",
        "    state_ = my_network.init_hidden(args.batch_size)\n",
        "    loader.reset_batch_pointer()\n",
        "    # Get test error loss\n",
        "    test_loss = 0\n",
        "    print('num_batches',num_batches)\n",
        "    criterion = nn.CrossEntropyLoss()\n",
        "    with torch.no_grad():\n",
        "        for batch in range(num_batches):\n",
        "            x, y = loader.next_batch_test()\n",
        "            x = Variable(torch.from_numpy(np.int64(x)))\n",
        "            y = Variable(torch.from_numpy(np.int64(y)))\n",
        "            preds, final_hidden = my_network(x, state_)\n",
        "            test_loss_ = criterion(preds.reshape(-1, args.num_chars), y.reshape(-1))\n",
        "            test_loss += test_loss_.item()\n",
        "        test_loss=test_loss/num_batches\n",
        "        print('test loss:',  test_loss)\n",
        "\n",
        "    return(test_loss)"
      ]
    },
    {
      "cell_type": "markdown",
      "metadata": {
        "id": "CzbMg4BqWK7e"
      },
      "source": [
        "(a)"
      ]
    },
    {
      "cell_type": "code",
      "execution_count": 18,
      "metadata": {
        "colab": {
          "base_uri": "https://localhost:8080/",
          "height": 449
        },
        "id": "QL2iCEFPftdT",
        "outputId": "ef0317e3-8a05-4e0b-dbe8-4f7b7dc8acc9"
      },
      "outputs": [
        {
          "data": {
            "image/png": "[encoded data removed]",
            "text/plain": [
              "<Figure size 640x480 with 1 Axes>"
            ]
          },
          "metadata": {},
          "output_type": "display_data"
        }
      ],
      "source": [
        "import matplotlib.pyplot as plt\n",
        "\n",
        "epoch = [i for i in range(20)]\n",
        "plt.plot(epoch, re_lstm_basic)\n",
        "plt.xlabel('epoch')\n",
        "plt.ylabel('LSTM error (loss)')\n",
        "plt.show()"
      ]
    },
    {
      "cell_type": "code",
      "execution_count": 19,
      "metadata": {
        "colab": {
          "base_uri": "https://localhost:8080/"
        },
        "id": "n3l1R3YXftdT",
        "outputId": "d7a2a86c-0b54-4679-b820-65c0af3968e5"
      },
      "outputs": [
        {
          "name": "stdout",
          "output_type": "stream",
          "text": [
            "Once upon a time, old\n",
            "The bottom flines it is a banishment in their son is thy father\n",
            "Would not be a traitor and seem \n",
            "we are poor citizens.\n",
            "\n",
            "BRUTUS:\n",
            "We should have be an house is as teached brave his command\n",
            "And say you he hath doth be die\n"
          ]
        }
      ],
      "source": [
        "Synthesize(\"LSTM\", \"Once upon a time, \")\n",
        "Synthesize(\"LSTM\", \"we are poor citizens.\")"
      ]
    },
    {
      "cell_type": "code",
      "execution_count": 20,
      "metadata": {
        "colab": {
          "base_uri": "https://localhost:8080/"
        },
        "id": "o0cjD4meY_4w",
        "outputId": "64b4b734-2d7d-4685-f0c7-082bb0ad047c"
      },
      "outputs": [
        {
          "name": "stdout",
          "output_type": "stream",
          "text": [
            "[39  5  1  7  1  0  4  7  1  0 15  3 13  0 20  3  9  8 20  0  2  3 12  4\n",
            " 15 44]\n",
            "num_batches 47\n",
            "test loss: 1.4338286531732438\n"
          ]
        },
        {
          "data": {
            "text/plain": [
              "1.4338286531732438"
            ]
          },
          "execution_count": 20,
          "metadata": {},
          "output_type": "execute_result"
        }
      ],
      "source": [
        "Tester('LSTM')"
      ]
    },
    {
      "cell_type": "markdown",
      "metadata": {
        "id": "bGkH5EV2ZbuF"
      },
      "source": [
        "(b)"
      ]
    },
    {
      "cell_type": "code",
      "execution_count": 21,
      "metadata": {
        "colab": {
          "base_uri": "https://localhost:8080/",
          "height": 451
        },
        "id": "dDOC_hVrZcpA",
        "outputId": "fbc5e979-2418-4212-d593-06c592d2f7cc"
      },
      "outputs": [
        {
          "data": {
            "image/png": "[encoded data removed]",
            "text/plain": [
              "<Figure size 640x480 with 1 Axes>"
            ]
          },
          "metadata": {},
          "output_type": "display_data"
        }
      ],
      "source": [
        "epoch = [i for i in range(20)]\n",
        "plt.plot(epoch, re_rnn_basic)\n",
        "plt.xlabel('epoch')\n",
        "plt.ylabel('rnn error (loss)')\n",
        "plt.show()"
      ]
    },
    {
      "cell_type": "code",
      "execution_count": 22,
      "metadata": {
        "colab": {
          "base_uri": "https://localhost:8080/"
        },
        "id": "oqGga5mnjSaY",
        "outputId": "ff45d540-f921-4a63-c12c-06b9d55fe290"
      },
      "outputs": [
        {
          "name": "stdout",
          "output_type": "stream",
          "text": [
            "once upon a time, and more\n",
            "That true\n",
            "Is a banishment\n",
            "Have did the closes manners there is this is too blood's son: but\n",
            "We are poor citizens.\n",
            "\n",
            "PRINCE EDWARD:\n",
            "Not a pretty those\n",
            "That well be some our good blozk!\n",
            "\n",
            "Clown:\n",
            "A privil's blown; and \n"
          ]
        }
      ],
      "source": [
        "Synthesize(\"RNN\", \"once upon a time, \")\n",
        "Synthesize(\"RNN\", \"We are poor citizens.\")"
      ]
    },
    {
      "cell_type": "code",
      "execution_count": 23,
      "metadata": {
        "colab": {
          "base_uri": "https://localhost:8080/"
        },
        "id": "Tcd73u7ijZn0",
        "outputId": "a62dd0e7-f7bb-49ed-cc47-32438cc11e76"
      },
      "outputs": [
        {
          "name": "stdout",
          "output_type": "stream",
          "text": [
            "[39  5  1  7  1  0  4  7  1  0 15  3 13  0 20  3  9  8 20  0  2  3 12  4\n",
            " 15 44]\n",
            "num_batches 47\n",
            "test loss: 1.4970180354219802\n"
          ]
        },
        {
          "data": {
            "text/plain": [
              "1.4970180354219802"
            ]
          },
          "execution_count": 23,
          "metadata": {},
          "output_type": "execute_result"
        }
      ],
      "source": [
        "Tester('RNN')"
      ]
    },
    {
      "cell_type": "markdown",
      "metadata": {
        "id": "9AaaVXkOnky8"
      },
      "source": [
        "We get a slightly higher loss"
      ]
    },
    {
      "cell_type": "markdown",
      "metadata": {
        "id": "_nM-gss_nmS3"
      },
      "source": [
        "(c), (d)"
      ]
    },
    {
      "cell_type": "markdown",
      "metadata": {
        "id": "8tylisMHMgY1"
      },
      "source": [
        "alternative 1: Set the parameter values for the RNN to be the same as those for the LSTM.\n",
        "\n",
        "Number of parameters (RNN) = $I\\times H+H\\times H+H$\n",
        "\n",
        "number of parameters (LSTM) = $4\\times (I\\times H + H\\times H + H)$"
      ]
    },
    {
      "cell_type": "markdown",
      "metadata": {
        "id": "MBblvaq70mF9"
      },
      "source": [
        "For this model I=H. Approximately we can use 256 input size (which is default) for RNN and 128 input size for LSTM."
      ]
    },
    {
      "cell_type": "code",
      "execution_count": 68,
      "metadata": {
        "colab": {
          "base_uri": "https://localhost:8080/"
        },
        "id": "qKmHuHswo3Ud",
        "outputId": "a1ae32aa-1fde-42b7-bc68-bb0911bcb5b9"
      },
      "outputs": [
        {
          "name": "stdout",
          "output_type": "stream",
          "text": [
            "cuda:0\n",
            "train_num_batches 185\n",
            "epoch: 0 loss: 2.071279949755282\n",
            "epoch: 1 loss: 1.718276748141727\n",
            "epoch: 2 loss: 1.6246051517692772\n",
            "epoch: 3 loss: 1.5735226972683056\n",
            "epoch: 4 loss: 1.5403292320870063\n",
            "00 hours 00 minutes 29.23 seconds\n",
            "train_num_batches 185\n",
            "epoch: 0 loss: 2.395808404200786\n",
            "epoch: 1 loss: 1.8949029522973138\n",
            "epoch: 2 loss: 1.7553787463420145\n",
            "epoch: 3 loss: 1.675557904630094\n",
            "epoch: 4 loss: 1.6252351838189203\n",
            "00 hours 01 minutes 15.81 seconds\n"
          ]
        }
      ],
      "source": [
        "print(device)\n",
        "args.num_epochs = 5\n",
        "re_rnn_basic = trainer(\"RNN\")\n",
        "args.num_units = 128\n",
        "re_lstm_basic = trainer(\"LSTM\")\n"
      ]
    },
    {
      "cell_type": "markdown",
      "metadata": {
        "id": "FNkFGmqP5cBZ"
      },
      "source": [
        "For the same amount of parameters, LSTM seems to be less effective."
      ]
    },
    {
      "cell_type": "code",
      "execution_count": 71,
      "metadata": {
        "id": "aqx7swd-t7KX"
      },
      "outputs": [],
      "source": [
        "rnn_losses = [2.071279949755282, 1.718276748141727, 1.6246051517692772, 1.5735226972683056, 1.5403292320870063]\n",
        "lstm_losses = [2.395808404200786, 1.8949029522973138, 1.7553787463420145, 1.675557904630094, 1.6252351838189203]"
      ]
    },
    {
      "cell_type": "code",
      "execution_count": 72,
      "metadata": {
        "colab": {
          "base_uri": "https://localhost:8080/",
          "height": 423
        },
        "id": "u75dLA9u6tri",
        "outputId": "a008671f-c485-4950-d963-6469d4afbb37"
      },
      "outputs": [
        {
          "data": {
            "image/png": "[encoded data removed]",
            "text/plain": [
              "<Figure size 1000x600 with 1 Axes>"
            ]
          },
          "metadata": {},
          "output_type": "display_data"
        }
      ],
      "source": [
        "import matplotlib.pyplot as plt\n",
        "\n",
        "# Assuming your epochs start from 0 and go to 4\n",
        "epochs = [0, 1, 2, 3, 4]\n",
        "\n",
        "# Plotting the loss values for RNN and LSTM\n",
        "plt.figure(figsize=(10, 6))\n",
        "plt.plot(epochs, rnn_losses, marker='o', linestyle='-', label='RNN Loss')\n",
        "plt.plot(epochs, lstm_losses, marker='x', linestyle='--', label='LSTM Loss')\n",
        "\n",
        "# Adding labels and title\n",
        "plt.xlabel('Epochs')\n",
        "plt.ylabel('Loss')\n",
        "plt.title('Training Loss for RNN and LSTM over Epochs')\n",
        "\n",
        "# Adding a legend to specify which line corresponds to RNN and which to LSTM\n",
        "plt.legend()\n",
        "\n",
        "# Display the plot\n",
        "plt.show()\n"
      ]
    },
    {
      "cell_type": "code",
      "execution_count": 30,
      "metadata": {
        "colab": {
          "base_uri": "https://localhost:8080/"
        },
        "id": "qShwpZZA5Svs",
        "outputId": "d4f26b5f-a6a5-4d40-879c-b18a3be59f0a"
      },
      "outputs": [
        {
          "name": "stdout",
          "output_type": "stream",
          "text": [
            "once upon a time, impossion:\n",
            "But, was the been that we was not bear the stay now not that says this be made to the bod\n",
            "We are poor citizens.\n",
            "\n",
            "DUCHIUS:\n",
            "Ay, assent once woman.\n",
            "\n",
            "KING EDWASHAS:\n",
            "Now, by his lords,\n",
            "To how had be and by the will n\n"
          ]
        }
      ],
      "source": [
        "args.num_units = 256\n",
        "Synthesize(\"RNN\", \"once upon a time, \")\n",
        "Synthesize(\"RNN\", \"We are poor citizens.\")"
      ]
    },
    {
      "cell_type": "code",
      "execution_count": 32,
      "metadata": {
        "colab": {
          "base_uri": "https://localhost:8080/"
        },
        "id": "eQ-KRyVb5T5k",
        "outputId": "7e09e24a-ee0e-44aa-f599-1889d6e27aee"
      },
      "outputs": [
        {
          "name": "stdout",
          "output_type": "stream",
          "text": [
            "once upon a time, this sons, be must.\n",
            "\n",
            "KING HENRY VI:\n",
            "Neatce her he watest of mine on to them.\n",
            "When, sir, she worse to\n",
            "We are poor citizens.\n",
            "\n",
            "CORIOLANUS:\n",
            "We'er till the storned, and, but I shing their was them,\n",
            "That some him.\n",
            "\n",
            "KING ELIZABLA\n"
          ]
        }
      ],
      "source": [
        "args.num_units = 128\n",
        "Synthesize(\"LSTM\", \"once upon a time, \")\n",
        "Synthesize(\"LSTM\", \"We are poor citizens.\")"
      ]
    },
    {
      "cell_type": "markdown",
      "metadata": {
        "id": "TS86WSs5MhoB"
      },
      "source": [
        "alternative 2: change the dimension of input for both RNN and LSTM to 512 (epoch 10)"
      ]
    },
    {
      "cell_type": "code",
      "execution_count": 46,
      "metadata": {
        "colab": {
          "base_uri": "https://localhost:8080/"
        },
        "id": "5tJ848M-7cZC",
        "outputId": "de2bda6c-774e-4ba8-bb3c-938501b5bc1a"
      },
      "outputs": [
        {
          "name": "stdout",
          "output_type": "stream",
          "text": [
            "cuda:0\n",
            "train_num_batches 185\n",
            "epoch: 0 loss: 1.9151248332616446\n",
            "epoch: 1 loss: 1.61130091370763\n",
            "epoch: 2 loss: 1.5315747003297548\n",
            "epoch: 3 loss: 1.488020051492227\n",
            "epoch: 4 loss: 1.4597355172440813\n",
            "epoch: 5 loss: 1.4395938209585242\n",
            "epoch: 6 loss: 1.4233654763247516\n",
            "epoch: 7 loss: 1.4104436977489574\n",
            "epoch: 8 loss: 1.3995379815230498\n",
            "epoch: 9 loss: 1.3912924244597151\n",
            "00 hours 01 minutes 13.73 seconds\n",
            "train_num_batches 185\n",
            "epoch: 0 loss: 1.9314522298606667\n",
            "epoch: 1 loss: 1.5580413083772402\n",
            "epoch: 2 loss: 1.4663102903881589\n",
            "epoch: 3 loss: 1.4147661009350339\n",
            "epoch: 4 loss: 1.378632115029\n",
            "epoch: 5 loss: 1.3499600358911463\n",
            "epoch: 6 loss: 1.3264180666691547\n",
            "epoch: 7 loss: 1.3051689747217539\n",
            "epoch: 8 loss: 1.2862817223007614\n",
            "epoch: 9 loss: 1.2693225635064616\n",
            "00 hours 02 minutes 21.91 seconds\n"
          ]
        }
      ],
      "source": [
        "print(device)\n",
        "args.num_epochs = 10\n",
        "args.num_units = 512\n",
        "re_rnn_basic = trainer(\"RNN\")\n",
        "re_lstm_basic = trainer(\"LSTM\")"
      ]
    },
    {
      "cell_type": "code",
      "execution_count": 47,
      "metadata": {
        "colab": {
          "base_uri": "https://localhost:8080/",
          "height": 423
        },
        "id": "W-mn8l9--YCK",
        "outputId": "1b5a656e-4232-4159-a3ae-5b4a8026095f"
      },
      "outputs": [
        {
          "data": {
            "image/png": "[encoded data removed]",
            "text/plain": [
              "<Figure size 1000x600 with 1 Axes>"
            ]
          },
          "metadata": {},
          "output_type": "display_data"
        }
      ],
      "source": [
        "import matplotlib.pyplot as plt\n",
        "\n",
        "# Given epoch losses\n",
        "rnn_losses = [1.9151248332616446, 1.61130091370763, 1.5315747003297548, 1.488020051492227, 1.4597355172440813, 1.4395938209585242, 1.4233654763247516, 1.4104436977489574, 1.3995379815230498, 1.3912924244597151]\n",
        "lstm_losses = [1.9314522298606667, 1.5580413083772402, 1.4663102903881589, 1.4147661009350339, 1.378632115029, 1.3499600358911463, 1.3264180666691547, 1.3051689747217539, 1.2862817223007614, 1.2693225635064616]\n",
        "epochs = list(range(1, len(rnn_losses) + 1))\n",
        "\n",
        "# Plotting\n",
        "plt.figure(figsize=(10, 6))\n",
        "plt.plot(epochs, rnn_losses, label='RNN Loss', marker='o')\n",
        "plt.plot(epochs, lstm_losses, label='LSTM Loss', marker='x')\n",
        "plt.xlabel('Epoch')\n",
        "plt.ylabel('Training Loss')\n",
        "plt.title('Training Loss vs Epoch')\n",
        "plt.legend()\n",
        "plt.grid(True)\n",
        "plt.show()"
      ]
    },
    {
      "cell_type": "code",
      "execution_count": 48,
      "metadata": {
        "colab": {
          "base_uri": "https://localhost:8080/"
        },
        "id": "Puyzc7ir-iBX",
        "outputId": "f14cdf70-e3af-4402-bb5c-116d00d59f6e"
      },
      "outputs": [
        {
          "name": "stdout",
          "output_type": "stream",
          "text": [
            "once upon a time, the common to-morrow.\n",
            "\n",
            "AUTOLYCUS:\n",
            "O God between to be sparest in their prince with hurst he speak an\n",
            "We are poor citizens.\n",
            "\n",
            "PROSPERO:\n",
            "\n",
            "Provost:\n",
            "Hate another mistill is are now,\n",
            "And we were where as to be see as that I what\n"
          ]
        }
      ],
      "source": [
        "Synthesize(\"RNN\", \"once upon a time, \")\n",
        "Synthesize(\"RNN\", \"We are poor citizens.\")"
      ]
    },
    {
      "cell_type": "code",
      "execution_count": 49,
      "metadata": {
        "colab": {
          "base_uri": "https://localhost:8080/"
        },
        "id": "zQMm0aIs-dNi",
        "outputId": "e6d9443d-284c-4fc8-d12d-fb1d71852cc8"
      },
      "outputs": [
        {
          "name": "stdout",
          "output_type": "stream",
          "text": [
            "once upon a time, our curses at that to make made all.\n",
            "\n",
            "COMINIUS:\n",
            "Now we lie, I did not, so man.\n",
            "\n",
            "SICINIUS:\n",
            "Nay, that \n",
            "We are poor citizens.\n",
            "\n",
            "SICINIUS:\n",
            "We will not so, in tempest it in the cause.\n",
            "\n",
            "All Servingman:\n",
            "Wilt then trust me, to bear\n"
          ]
        }
      ],
      "source": [
        "Synthesize(\"LSTM\", \"once upon a time, \")\n",
        "Synthesize(\"LSTM\", \"We are poor citizens.\")"
      ]
    },
    {
      "cell_type": "markdown",
      "metadata": {
        "id": "lH__uPm5MijG"
      },
      "source": [
        "alternative 3: add a hidden layer on RNN"
      ]
    },
    {
      "cell_type": "code",
      "execution_count": 73,
      "metadata": {
        "id": "uv_I-jAa_qzs"
      },
      "outputs": [],
      "source": [
        "class MyTwoLayerRNNCell(nn.Module):\n",
        "    def __init__(self, input_size, hidden_size, num_layers=2):\n",
        "        super().__init__()\n",
        "        self.input_size = input_size\n",
        "        self.hidden_size = hidden_size\n",
        "        self.num_layers = num_layers\n",
        "\n",
        "        self.rnn_cells = nn.ModuleList([MyBasicRNNCell(input_size if i == 0 else hidden_size, hidden_size) for i in range(num_layers)])\n",
        "\n",
        "    def init_weights(self):\n",
        "        for cell in self.rnn_cells:\n",
        "            cell.init_weights()\n",
        "\n",
        "    def forward(self, x, init_states=None):\n",
        "        if init_states is None:\n",
        "            init_states = [torch.zeros(self.hidden_size).to(x.device) for _ in range(self.num_layers)]\n",
        "\n",
        "        outputs = []\n",
        "        new_states = []\n",
        "\n",
        "        h_t = x\n",
        "        for i, (cell, h_init) in enumerate(zip(self.rnn_cells, init_states)):\n",
        "            h_t, new_state = cell(h_t, h_init)\n",
        "            outputs.append(h_t)\n",
        "            new_states.append(new_state)\n",
        "\n",
        "        return outputs[-1], new_states"
      ]
    },
    {
      "cell_type": "code",
      "execution_count": 74,
      "metadata": {
        "id": "dim3roFFAXDq"
      },
      "outputs": [],
      "source": [
        "class network(nn.Module):\n",
        "    def __init__(self, cell_type, ntoken, ninp, nhid, num_layers=2):\n",
        "        super(network, self).__init__()\n",
        "        self.cell_type = cell_type\n",
        "        self.num_layers = num_layers\n",
        "        if self.cell_type == 'LSTM':\n",
        "            self.cell = MyBasicLSTMCell(args.num_units, args.num_units)  # Assuming you have a MyBasicLSTMCell class\n",
        "        elif self.cell_type == 'RNN':\n",
        "            self.cell = MyTwoLayerRNNCell(args.num_units, args.num_units, num_layers=self.num_layers)\n",
        "        else:\n",
        "            raise NotImplementedError\n",
        "        self.ntoken = ntoken\n",
        "        self.ninp = ninp\n",
        "        self.nhid = nhid\n",
        "        self.embedding = nn.Embedding(ntoken, ninp)\n",
        "        self.decoder = nn.Linear(nhid, ntoken)\n",
        "        self.init_weights()\n",
        "\n",
        "    def init_weights(self):\n",
        "        self.decoder.bias.data.zero_()\n",
        "\n",
        "    def forward(self, x, hidden):\n",
        "        bs, seq_sz = x.size()\n",
        "        emb = self.embedding(x)\n",
        "        assert hidden is not None\n",
        "        outputs = []\n",
        "        for t in range(seq_sz):\n",
        "            x_t = emb[:, t, :]\n",
        "            output, hidden = self.cell(x_t, hidden)\n",
        "            outputs.append(output)\n",
        "        reshaped_output = torch.cat(outputs, 1).view(-1, self.nhid)\n",
        "        logits = self.decoder(reshaped_output)\n",
        "        logits = logits.view(bs, seq_sz, -1)\n",
        "        final_hidden = hidden[-1]  # Take the hidden state from the last layer\n",
        "        return logits, final_hidden\n",
        "\n",
        "    def init_hidden(self, bsz):\n",
        "        weight = next(self.parameters()).data\n",
        "        if self.cell_type == 'LSTM':\n",
        "            return (weight.new_zeros(bsz, self.nhid),\n",
        "                    weight.new_zeros(bsz, self.nhid))\n",
        "        elif self.cell_type == 'RNN':\n",
        "            return [weight.new_zeros(bsz, self.nhid) for _ in range(self.num_layers)]  # Initialize for each layer\n",
        "        else:\n",
        "            raise NotImplementedError"
      ]
    },
    {
      "cell_type": "code",
      "execution_count": 75,
      "metadata": {
        "colab": {
          "base_uri": "https://localhost:8080/"
        },
        "id": "drqJMVFt_vXR",
        "outputId": "99bcbd17-fd9d-44d7-c183-addcccbe7ea6"
      },
      "outputs": [
        {
          "name": "stdout",
          "output_type": "stream",
          "text": [
            "train_num_batches 185\n",
            "epoch: 0 loss: 2.2148949642439146\n",
            "epoch: 1 loss: 1.776974130965568\n",
            "epoch: 2 loss: 1.667539198978527\n",
            "epoch: 3 loss: 1.6093443992975596\n",
            "epoch: 4 loss: 1.5719408363909335\n",
            "00 hours 00 minutes 48.19 seconds\n",
            "train_num_batches 185\n",
            "epoch: 0 loss: 2.385638726079786\n",
            "epoch: 1 loss: 1.8814494075001897\n",
            "epoch: 2 loss: 1.7422591679805033\n",
            "epoch: 3 loss: 1.6676008153606106\n",
            "epoch: 4 loss: 1.6190231226586007\n",
            "00 hours 01 minutes 19.66 seconds\n"
          ]
        }
      ],
      "source": [
        "re_rnn_basic = trainer(\"RNN\")\n",
        "re_lstm_basic = trainer(\"LSTM\")"
      ]
    },
    {
      "cell_type": "code",
      "execution_count": 76,
      "metadata": {
        "colab": {
          "base_uri": "https://localhost:8080/",
          "height": 423
        },
        "id": "-Ad_MdNFBnTj",
        "outputId": "289d8d25-1215-4a52-e7ba-779de74895e4"
      },
      "outputs": [
        {
          "data": {
            "image/png": "[encoded data removed]",
            "text/plain": [
              "<Figure size 1000x600 with 1 Axes>"
            ]
          },
          "metadata": {},
          "output_type": "display_data"
        }
      ],
      "source": [
        "import matplotlib.pyplot as plt\n",
        "\n",
        "# Your data\n",
        "epochs = [1, 2, 3, 4, 5]\n",
        "model1_loss = [2.214, 1.776, 1.667, 1.609, 1.571]\n",
        "model2_loss = [2.385, 1.881, 1.742, 1.667, 1.619]\n",
        "\n",
        "# Plotting\n",
        "plt.figure(figsize=(10,6))\n",
        "plt.plot(epochs, model1_loss, label='RNN', marker='o')\n",
        "plt.plot(epochs, model2_loss, label='LSTM', marker='x')\n",
        "plt.xlabel('Epochs')\n",
        "plt.ylabel('Loss')\n",
        "plt.title('Training Loss vs Epochs')\n",
        "plt.legend()\n",
        "plt.grid(True)\n",
        "plt.show()\n"
      ]
    },
    {
      "cell_type": "markdown",
      "metadata": {
        "id": "vlTLborv9Vjp"
      },
      "source": [
        "Problem 2"
      ]
    },
    {
      "cell_type": "markdown",
      "metadata": {
        "id": "xGbiBsuymB5G"
      },
      "source": [
        "(a)"
      ]
    },
    {
      "cell_type": "code",
      "execution_count": null,
      "metadata": {
        "colab": {
          "base_uri": "https://localhost:8080/"
        },
        "id": "polCNT3E9Xow",
        "outputId": "e47a8eff-73c3-40a5-eb32-1234bf3f3120"
      },
      "outputs": [
        {
          "name": "stdout",
          "output_type": "stream",
          "text": [
            "Mounted at /content/drive\n"
          ]
        }
      ],
      "source": [
        "import pickle\n",
        "\n",
        "from google.colab import drive\n",
        "drive.mount('/content/drive')\n",
        "\n",
        "with open('/content/drive/My Drive/LSDA_data/Speech/SOUND_DATA_A', 'rb') as f:\n",
        "    data = pickle.load(f)"
      ]
    },
    {
      "cell_type": "code",
      "execution_count": null,
      "metadata": {
        "id": "MaRJOoPdnJJ4"
      },
      "outputs": [],
      "source": [
        "import torch\n",
        "import torch.nn as nn\n",
        "\n",
        "X_train = torch.tensor(data.get('X_train_mfcc'))\n",
        "Y_train = torch.tensor(data.get('Y_train'))\n",
        "X_test = torch.tensor(data.get('X_test_mfcc'))\n",
        "Y_test = torch.tensor(data.get('Y_test'))"
      ]
    },
    {
      "cell_type": "code",
      "execution_count": null,
      "metadata": {
        "colab": {
          "base_uri": "https://localhost:8080/"
        },
        "id": "OJe-nA6wj32m",
        "outputId": "072ca07c-962b-47eb-b6da-b3e99a3afbf7"
      },
      "outputs": [
        {
          "name": "stdout",
          "output_type": "stream",
          "text": [
            "Epoch [1/10], Step [10/15], Loss: 2.2939422130584717\n",
            "Epoch [2/10], Step [10/15], Loss: 2.1847028732299805\n",
            "Epoch [3/10], Step [10/15], Loss: 1.9196614027023315\n",
            "Epoch [4/10], Step [10/15], Loss: 1.688099980354309\n",
            "Epoch [5/10], Step [10/15], Loss: 1.1679259538650513\n",
            "Epoch [6/10], Step [10/15], Loss: 0.9805996417999268\n",
            "Epoch [7/10], Step [10/15], Loss: 0.6854565143585205\n",
            "Epoch [8/10], Step [10/15], Loss: 0.5235242247581482\n",
            "Epoch [9/10], Step [10/15], Loss: 0.48042362928390503\n",
            "Epoch [10/10], Step [10/15], Loss: 0.35656148195266724\n",
            "Test Accuracy of the model on the test data: 86.80%\n"
          ]
        }
      ],
      "source": [
        "import torch\n",
        "import torch.nn as nn\n",
        "\n",
        "# Define the RNN model\n",
        "class RNNModel(nn.Module):\n",
        "    def __init__(self, input_size, hidden_size, num_layers, num_classes):\n",
        "        super(RNNModel, self).__init__()\n",
        "        self.hidden_size = hidden_size\n",
        "        self.num_layers = num_layers\n",
        "        self.rnn = nn.RNN(input_size, hidden_size, num_layers, batch_first=True)\n",
        "        self.fc = nn.Linear(hidden_size, num_classes)\n",
        "\n",
        "    def forward(self, x):\n",
        "        h0 = torch.zeros(self.num_layers, x.size(0), self.hidden_size).to(x.device)\n",
        "        out, _ = self.rnn(x, h0)\n",
        "        out = self.fc(out[:, -1, :])\n",
        "        return out\n",
        "\n",
        "# Hyperparameters\n",
        "input_size = 64\n",
        "hidden_size = 128\n",
        "num_layers = 2\n",
        "num_classes = 10\n",
        "num_epochs = 10\n",
        "learning_rate = 0.001\n",
        "batch_size = 100\n",
        "\n",
        "# Prepare data for training\n",
        "train_dataset = torch.utils.data.TensorDataset(X_train, Y_train)\n",
        "train_dataloader = torch.utils.data.DataLoader(train_dataset, batch_size=batch_size, shuffle=True)\n",
        "\n",
        "# Prepare data for testing\n",
        "test_dataset = torch.utils.data.TensorDataset(X_test, Y_test)\n",
        "test_dataloader = torch.utils.data.DataLoader(test_dataset, batch_size=batch_size, shuffle=False)\n",
        "\n",
        "# Initialize the RNN\n",
        "model = RNNModel(input_size, hidden_size, num_layers, num_classes)\n",
        "\n",
        "# Loss and optimizer\n",
        "criterion = nn.CrossEntropyLoss()  # updated loss function\n",
        "optimizer = torch.optim.Adam(model.parameters(), lr=learning_rate)\n",
        "\n",
        "# Training loop\n",
        "for epoch in range(num_epochs):\n",
        "    for i, (inputs, labels) in enumerate(train_dataloader):\n",
        "        inputs = inputs.float()\n",
        "        labels = labels.long()  # Ensure labels are LongTensor\n",
        "        outputs = model(inputs)\n",
        "        loss = criterion(outputs, labels.squeeze())\n",
        "\n",
        "        optimizer.zero_grad()\n",
        "        loss.backward()\n",
        "        optimizer.step()\n",
        "\n",
        "        if (i+1) % 10 == 0:\n",
        "            print(f'Epoch [{epoch+1}/{num_epochs}], Step [{i+1}/{len(train_dataloader)}], Loss: {loss.item()}')\n",
        "\n",
        "# Test the model\n",
        "model.eval()\n",
        "total = 0\n",
        "correct = 0\n",
        "with torch.no_grad():\n",
        "    for inputs, labels in test_dataloader:\n",
        "        inputs = inputs.float()\n",
        "        labels = labels.long()  # Ensure labels are LongTensor\n",
        "        outputs = model(inputs)\n",
        "        _, predicted = torch.max(outputs.data, 1)  # Get the class with highest score\n",
        "        total += labels.size(0)\n",
        "        correct += (predicted == labels.squeeze()).sum().item()\n",
        "\n",
        "print('Test Accuracy of the model on the test data: {:.2f}%'.format(100 * correct / total))"
      ]
    },
    {
      "cell_type": "markdown",
      "metadata": {
        "id": "HlGm-fuTniLJ"
      },
      "source": [
        "(b)"
      ]
    },
    {
      "cell_type": "code",
      "execution_count": null,
      "metadata": {
        "id": "CkuJ5I_DnnWD"
      },
      "outputs": [],
      "source": [
        "import torch\n",
        "import torch.nn as nn\n",
        "\n",
        "X_train = torch.tensor(data.get('X_train_mfcc'))\n",
        "Y_train = torch.tensor(data.get('Y_train'))\n",
        "X_test = torch.tensor(data.get('X_test_mfcc'))\n",
        "Y_test = torch.tensor(data.get('Y_test'))"
      ]
    },
    {
      "cell_type": "code",
      "execution_count": null,
      "metadata": {
        "colab": {
          "base_uri": "https://localhost:8080/",
          "height": 238
        },
        "id": "XYZJcCidmLl5",
        "outputId": "6b6ed49c-b59f-4ea4-fe6d-31ce9117d4fb"
      },
      "outputs": [
        {
          "name": "stderr",
          "output_type": "stream",
          "text": [
            "/usr/local/lib/python3.10/dist-packages/sklearn/linear_model/_logistic.py:458: ConvergenceWarning: lbfgs failed to converge (status=1):\n",
            "STOP: TOTAL NO. of ITERATIONS REACHED LIMIT.\n",
            "\n",
            "Increase the number of iterations (max_iter) or scale the data as shown in:\n",
            "    https://scikit-learn.org/stable/modules/preprocessing.html\n",
            "Please also refer to the documentation for alternative solver options:\n",
            "    https://scikit-learn.org/stable/modules/linear_model.html#logistic-regression\n",
            "  n_iter_i = _check_optimize_result(\n"
          ]
        },
        {
          "data": {
            "text/html": [
              "<style>#sk-container-id-7 {color: black;background-color: white;}#sk-container-id-7 pre{padding: 0;}#sk-container-id-7 div.sk-toggleable {background-color: white;}#sk-container-id-7 label.sk-toggleable__label {cursor: pointer;display: block;width: 100%;margin-bottom: 0;padding: 0.3em;box-sizing: border-box;text-align: center;}#sk-container-id-7 label.sk-toggleable__label-arrow:before {content: \"▸\";float: left;margin-right: 0.25em;color: #696969;}#sk-container-id-7 label.sk-toggleable__label-arrow:hover:before {color: black;}#sk-container-id-7 div.sk-estimator:hover label.sk-toggleable__label-arrow:before {color: black;}#sk-container-id-7 div.sk-toggleable__content {max-height: 0;max-width: 0;overflow: hidden;text-align: left;background-color: #f0f8ff;}#sk-container-id-7 div.sk-toggleable__content pre {margin: 0.2em;color: black;border-radius: 0.25em;background-color: #f0f8ff;}#sk-container-id-7 input.sk-toggleable__control:checked~div.sk-toggleable__content {max-height: 200px;max-width: 100%;overflow: auto;}#sk-container-id-7 input.sk-toggleable__control:checked~label.sk-toggleable__label-arrow:before {content: \"▾\";}#sk-container-id-7 div.sk-estimator input.sk-toggleable__control:checked~label.sk-toggleable__label {background-color: #d4ebff;}#sk-container-id-7 div.sk-label input.sk-toggleable__control:checked~label.sk-toggleable__label {background-color: #d4ebff;}#sk-container-id-7 input.sk-hidden--visually {border: 0;clip: rect(1px 1px 1px 1px);clip: rect(1px, 1px, 1px, 1px);height: 1px;margin: -1px;overflow: hidden;padding: 0;position: absolute;width: 1px;}#sk-container-id-7 div.sk-estimator {font-family: monospace;background-color: #f0f8ff;border: 1px dotted black;border-radius: 0.25em;box-sizing: border-box;margin-bottom: 0.5em;}#sk-container-id-7 div.sk-estimator:hover {background-color: #d4ebff;}#sk-container-id-7 div.sk-parallel-item::after {content: \"\";width: 100%;border-bottom: 1px solid gray;flex-grow: 1;}#sk-container-id-7 div.sk-label:hover label.sk-toggleable__label {background-color: #d4ebff;}#sk-container-id-7 div.sk-serial::before {content: \"\";position: absolute;border-left: 1px solid gray;box-sizing: border-box;top: 0;bottom: 0;left: 50%;z-index: 0;}#sk-container-id-7 div.sk-serial {display: flex;flex-direction: column;align-items: center;background-color: white;padding-right: 0.2em;padding-left: 0.2em;position: relative;}#sk-container-id-7 div.sk-item {position: relative;z-index: 1;}#sk-container-id-7 div.sk-parallel {display: flex;align-items: stretch;justify-content: center;background-color: white;position: relative;}#sk-container-id-7 div.sk-item::before, #sk-container-id-7 div.sk-parallel-item::before {content: \"\";position: absolute;border-left: 1px solid gray;box-sizing: border-box;top: 0;bottom: 0;left: 50%;z-index: -1;}#sk-container-id-7 div.sk-parallel-item {display: flex;flex-direction: column;z-index: 1;position: relative;background-color: white;}#sk-container-id-7 div.sk-parallel-item:first-child::after {align-self: flex-end;width: 50%;}#sk-container-id-7 div.sk-parallel-item:last-child::after {align-self: flex-start;width: 50%;}#sk-container-id-7 div.sk-parallel-item:only-child::after {width: 0;}#sk-container-id-7 div.sk-dashed-wrapped {border: 1px dashed gray;margin: 0 0.4em 0.5em 0.4em;box-sizing: border-box;padding-bottom: 0.4em;background-color: white;}#sk-container-id-7 div.sk-label label {font-family: monospace;font-weight: bold;display: inline-block;line-height: 1.2em;}#sk-container-id-7 div.sk-label-container {text-align: center;}#sk-container-id-7 div.sk-container {/* jupyter's `normalize.less` sets `[hidden] { display: none; }` but bootstrap.min.css set `[hidden] { display: none !important; }` so we also need the `!important` here to be able to override the default hidden behavior on the sphinx rendered scikit-learn.org. See: https://github.com/scikit-learn/scikit-learn/issues/21755 */display: inline-block !important;position: relative;}#sk-container-id-7 div.sk-text-repr-fallback {display: none;}</style><div id=\"sk-container-id-7\" class=\"sk-top-container\"><div class=\"sk-text-repr-fallback\"><pre>LogisticRegression()</pre><b>In a Jupyter environment, please rerun this cell to show the HTML representation or trust the notebook. <br />On GitHub, the HTML representation is unable to render, please try loading this page with nbviewer.org.</b></div><div class=\"sk-container\" hidden><div class=\"sk-item\"><div class=\"sk-estimator sk-toggleable\"><input class=\"sk-toggleable__control sk-hidden--visually\" id=\"sk-estimator-id-7\" type=\"checkbox\" checked><label for=\"sk-estimator-id-7\" class=\"sk-toggleable__label sk-toggleable__label-arrow\">LogisticRegression</label><div class=\"sk-toggleable__content\"><pre>LogisticRegression()</pre></div></div></div></div></div>"
            ],
            "text/plain": [
              "LogisticRegression()"
            ]
          },
          "execution_count": 205,
          "metadata": {},
          "output_type": "execute_result"
        }
      ],
      "source": [
        "import torch\n",
        "from sklearn.linear_model import LogisticRegression\n",
        "from sklearn.metrics import accuracy_score\n",
        "\n",
        "# Assuming your input data is X and labels are Y\n",
        "X = X_train\n",
        "Y = Y_train\n",
        "\n",
        "# Reshape the input data and convert to numpy array\n",
        "X = X.view(1500, -1).numpy()\n",
        "\n",
        "# Convert labels to numpy array\n",
        "Y = Y.numpy()\n",
        "\n",
        "# Flatten the labels\n",
        "Y = Y.ravel()\n",
        "\n",
        "# Initialize the Logistic Regression model\n",
        "model = LogisticRegression()\n",
        "\n",
        "# Fit the model to the training data\n",
        "model.fit(X, Y)\n"
      ]
    },
    {
      "cell_type": "code",
      "execution_count": null,
      "metadata": {
        "colab": {
          "base_uri": "https://localhost:8080/"
        },
        "id": "LwGQwOj7nxQV",
        "outputId": "d90ddc4d-52aa-4e66-cb21-d5711dea2794"
      },
      "outputs": [
        {
          "name": "stdout",
          "output_type": "stream",
          "text": [
            "Training accuracy: 100.00%\n"
          ]
        },
        {
          "name": "stderr",
          "output_type": "stream",
          "text": [
            "/usr/local/lib/python3.10/dist-packages/sklearn/linear_model/_logistic.py:458: ConvergenceWarning: lbfgs failed to converge (status=1):\n",
            "STOP: TOTAL NO. of ITERATIONS REACHED LIMIT.\n",
            "\n",
            "Increase the number of iterations (max_iter) or scale the data as shown in:\n",
            "    https://scikit-learn.org/stable/modules/preprocessing.html\n",
            "Please also refer to the documentation for alternative solver options:\n",
            "    https://scikit-learn.org/stable/modules/linear_model.html#logistic-regression\n",
            "  n_iter_i = _check_optimize_result(\n"
          ]
        }
      ],
      "source": [
        "import torch\n",
        "from sklearn.linear_model import LogisticRegression\n",
        "from sklearn.metrics import accuracy_score\n",
        "\n",
        "# Assuming your input data is X and labels are Y\n",
        "X = X_test\n",
        "Y = Y_test\n",
        "\n",
        "# Reshape the input data and convert to numpy array\n",
        "X = X.view(750, -1).numpy()\n",
        "\n",
        "# Convert labels to numpy array\n",
        "Y = Y.numpy()\n",
        "\n",
        "# Flatten the labels\n",
        "Y = Y.ravel()\n",
        "\n",
        "# Initialize the Logistic Regression model\n",
        "model = LogisticRegression()\n",
        "\n",
        "# Fit the model to the training data\n",
        "model.fit(X, Y)\n",
        "\n",
        "# Predict the labels for the training data\n",
        "Y_pred = model.predict(X)\n",
        "\n",
        "# Compute the accuracy on the training data\n",
        "accuracy = accuracy_score(Y, Y_pred)\n",
        "\n",
        "print(f'Training accuracy: {accuracy * 100.0:.2f}%')"
      ]
    },
    {
      "cell_type": "markdown",
      "metadata": {
        "id": "8I-6WAaioKoC"
      },
      "source": [
        "(c)"
      ]
    },
    {
      "cell_type": "markdown",
      "metadata": {
        "id": "oNeC5cYfyci2"
      },
      "source": [
        "I got 83.60% accuracy for RNN method and 100% for logistic method.\n",
        "Computationally intensive model does not necessarily lead to higher accuracy."
      ]
    }
  ],
  "metadata": {
    "accelerator": "GPU",
    "colab": {
      "gpuClass": "premium",
      "gpuType": "T4",
      "provenance": []
    },
    "kernelspec": {
      "display_name": "Python 3",
      "name": "python3"
    },
    "language_info": {
      "codemirror_mode": {
        "name": "ipython",
        "version": 3
      },
      "file_extension": ".py",
      "mimetype": "text/x-python",
      "name": "python",
      "nbconvert_exporter": "python",
      "pygments_lexer": "ipython3",
      "version": "3.10.9"
    }
  },
  "nbformat": 4,
  "nbformat_minor": 0
}
